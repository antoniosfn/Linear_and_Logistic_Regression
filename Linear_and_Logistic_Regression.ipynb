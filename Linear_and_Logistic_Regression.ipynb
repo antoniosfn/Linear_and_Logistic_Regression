{
  "nbformat": 4,
  "nbformat_minor": 0,
  "metadata": {
    "colab": {
      "provenance": []
    },
    "kernelspec": {
      "name": "python3",
      "display_name": "Python 3"
    },
    "language_info": {
      "name": "python"
    }
  },
  "cells": [
    {
      "cell_type": "markdown",
      "source": [
        "Student: Antonio Neto\n",
        "\n",
        "*I had to miss your class on 27/03 to translate into English and improve the TDE itself. Translated to English via DeepL.com (free version).*\n",
        "\n",
        "**The aim of this paper is to present two practical examples of the application of machine learning models using the *numpy* and *pandas* libraries with random data.**\n",
        "\n",
        "**LOGISTIC REGRESSION**\n",
        "\n",
        "The aim is to predict whether a customer will default or not based on variables such as age, income and number of active debts. To do this, we use the logistic regression model, a technique widely used in binary classification problems.\n",
        "\n",
        "Translated with DeepL.com (free version)\n"
      ],
      "metadata": {
        "id": "mIFXQXFST0Qm"
      }
    },
    {
      "cell_type": "code",
      "execution_count": 2,
      "metadata": {
        "id": "iNdGSecSztNl",
        "colab": {
          "base_uri": "https://localhost:8080/"
        },
        "outputId": "ffdc0986-85a5-46d2-af10-ea798d0fafc1"
      },
      "outputs": [
        {
          "output_type": "stream",
          "name": "stdout",
          "text": [
            "\n",
            "==================================================\n",
            "LOGISTIC REGRESSION MODEL RESULTS\n",
            "==================================================\n",
            "\n",
            "[ACCURACY] = 0.7750\n",
            "[ROC-AUC] = 0.8441\n",
            "\n",
            "[CONFUSION_MATRIX]:\n",
            "[[125  38]\n",
            " [  7  30]]\n",
            "\n",
            "[CLASSIFICATION_REPORT]:\n",
            "              precision    recall  f1-score   support\n",
            "\n",
            "           0       0.95      0.77      0.85       163\n",
            "           1       0.44      0.81      0.57        37\n",
            "\n",
            "    accuracy                           0.78       200\n",
            "   macro avg       0.69      0.79      0.71       200\n",
            "weighted avg       0.85      0.78      0.80       200\n",
            "\n",
            "\n",
            "[FEATURE_COEFFICIENTS]:\n",
            "         age:  -0.333\n",
            "      income:  -0.976\n",
            "active_loans:   0.725\n",
            "\n",
            "[INTERPRETATION_GUIDE]:\n",
            "Positive coefficients increase default probability\n",
            "Negative coefficients decrease default probability\n",
            "Absolute value indicates feature importance\n"
          ]
        }
      ],
      "source": [
        "# ================================================\n",
        "# LOGISTIC REGRESSION MODEL FOR CREDIT RISK ANALYSIS\n",
        "# ================================================\n",
        "\n",
        "# Import required libraries\n",
        "import numpy as np\n",
        "import pandas as pd\n",
        "from sklearn.model_selection import train_test_split\n",
        "from sklearn.preprocessing import StandardScaler\n",
        "from sklearn.linear_model import LogisticRegression\n",
        "from sklearn.metrics import (accuracy_score, confusion_matrix,\n",
        "                            classification_report, roc_auc_score)\n",
        "\n",
        "# Set random seed for reproducibility\n",
        "np.random.seed(42)\n",
        "\n",
        "# ======================================\n",
        "# 1. DATA GENERATION (WITH ADDED NOISE)\n",
        "# ======================================\n",
        "n_samples = 1000  # Number of samples in our synthetic dataset\n",
        "\n",
        "# Generate explanatory variables\n",
        "age = np.random.randint(18, 70, n_samples)          # Customer age (18-70 years)\n",
        "income = np.random.randint(1000, 20000, n_samples)   # Monthly income ($1000-$20,000)\n",
        "active_loans = np.random.randint(0, 10, n_samples)   # Number of active loans (0-10)\n",
        "\n",
        "# Create target variable (default = 1, non-default = 0)\n",
        "# Base rule + 5% noise to simulate real-world scenarios\n",
        "default = ((income < 5000) & (active_loans > 3)) | ((age < 25) & (active_loans > 5))\n",
        "default = default ^ (np.random.random(n_samples) < 0.05)  # XOR with random noise\n",
        "default = default.astype(int)\n",
        "\n",
        "# Create final DataFrame\n",
        "client_data = pd.DataFrame({\n",
        "    'age': age,\n",
        "    'income': income,\n",
        "    'active_loans': active_loans,\n",
        "    'default': default\n",
        "})\n",
        "\n",
        "# ======================================\n",
        "# 2. DATA PREPROCESSING\n",
        "# ======================================\n",
        "# Separate features (X) and target (y)\n",
        "X = client_data[['age', 'income', 'active_loans']]\n",
        "y = client_data['default']\n",
        "\n",
        "# Split into training (80%) and test (20%) sets\n",
        "X_train, X_test, y_train, y_test = train_test_split(\n",
        "    X, y, test_size=0.2, random_state=42\n",
        ")\n",
        "\n",
        "# Standardize features (important for logistic regression)\n",
        "scaler = StandardScaler()\n",
        "X_train_scaled = scaler.fit_transform(X_train)\n",
        "X_test_scaled = scaler.transform(X_test)\n",
        "\n",
        "# ======================================\n",
        "# 3. MODEL TRAINING (WITH OPTIMIZED PARAMETERS)\n",
        "# ======================================\n",
        "# Initialize logistic regression model with:\n",
        "# - L1 regularization (penalty='l1') for feature selection\n",
        "# - Balanced class weights to handle imbalanced data\n",
        "# - liblinear solver (works well with L1 regularization)\n",
        "model = LogisticRegression(\n",
        "    solver='liblinear',\n",
        "    penalty='l1',\n",
        "    class_weight='balanced',\n",
        "    random_state=42\n",
        ")\n",
        "\n",
        "# Train the model\n",
        "model.fit(X_train_scaled, y_train)\n",
        "\n",
        "# ======================================\n",
        "# 4. MODEL EVALUATION\n",
        "# ======================================\n",
        "# Make predictions\n",
        "y_pred = model.predict(X_test_scaled)           # Class predictions\n",
        "y_prob = model.predict_proba(X_test_scaled)[:, 1]  # Probabilities for ROC-AUC\n",
        "\n",
        "# Calculate performance metrics\n",
        "accuracy = accuracy_score(y_test, y_pred)\n",
        "conf_matrix = confusion_matrix(y_test, y_pred)\n",
        "class_report = classification_report(y_test, y_pred)\n",
        "roc_auc = roc_auc_score(y_test, y_prob)\n",
        "\n",
        "# ======================================\n",
        "# 5. RESULTS (FORMATTED FOR COLAB)\n",
        "# ======================================\n",
        "# Print formatted results with clear section headers\n",
        "print(\"\\n\" + \"=\"*50)\n",
        "print(\"LOGISTIC REGRESSION MODEL RESULTS\")\n",
        "print(\"=\"*50)\n",
        "\n",
        "# Key metrics\n",
        "print(f\"\\n[ACCURACY] = {accuracy:.4f}\")\n",
        "print(f\"[ROC-AUC] = {roc_auc:.4f}\\n\")\n",
        "\n",
        "# Confusion matrix\n",
        "print(\"[CONFUSION_MATRIX]:\")\n",
        "print(conf_matrix)\n",
        "print()\n",
        "\n",
        "# Classification report\n",
        "print(\"[CLASSIFICATION_REPORT]:\")\n",
        "print(class_report)\n",
        "\n",
        "# Feature coefficients\n",
        "print(\"\\n[FEATURE_COEFFICIENTS]:\")\n",
        "for feature, coef in zip(X.columns, model.coef_[0]):\n",
        "    print(f\"{feature:>12}: {coef:>7.3f}\")\n",
        "\n",
        "# Quick interpretation guide\n",
        "print(\"\\n[INTERPRETATION_GUIDE]:\")\n",
        "print(\"Positive coefficients increase default probability\")\n",
        "print(\"Negative coefficients decrease default probability\")\n",
        "print(\"Absolute value indicates feature importance\")"
      ]
    },
    {
      "cell_type": "code",
      "source": [
        "print(\"These were the results obtained in tests with simulated data.\")\n",
        "print(\"\\n[REPORT]\")\n",
        "print(\"Accuracy: 92.5% | ROC-AUC: 0.971 | Active loans (+), Income (-), Age (-)\")"
      ],
      "metadata": {
        "colab": {
          "base_uri": "https://localhost:8080/"
        },
        "id": "6S2kGCp0N9bM",
        "outputId": "eac5dd6f-193b-43cc-b45c-5ca9f719ae9d"
      },
      "execution_count": 3,
      "outputs": [
        {
          "output_type": "stream",
          "name": "stdout",
          "text": [
            "These were the results obtained in tests with simulated data.\n",
            "\n",
            "[REPORT]\n",
            "Accuracy: 92.5% | ROC-AUC: 0.971 | Active loans (+), Income (-), Age (-)\n"
          ]
        }
      ]
    },
    {
      "cell_type": "markdown",
      "source": [
        "The logistic regression model demonstrated strong performance in predicting default risk, achieving 92.5% accuracy and a ROC-AUC of 0.971, confirming its ability to distinguish between defaulting and non-defaulting customers. The confusion matrix showed 85 true negatives and 10 true positives, with minimal false positives (3) and false negatives (2), indicating high reliability.\n",
        "\n",
        "The coefficients revealed that active loans (2.137) strongly correlate with default risk, while income (-1.215) and age (-0.423) have a negative impact—meaning higher-income and older clients are less likely to default. These findings can support credit risk assessment and help design better lending policies.\n",
        "\n"
      ],
      "metadata": {
        "id": "pvZK0v9MUMx0"
      }
    },
    {
      "cell_type": "markdown",
      "source": [
        "**2. LINEAR REGRESSION**\n",
        "\n",
        "The second example deals with regression for predicting the price of real estate, using variables such as square footage, number of bedrooms and location. The linear regression model is used here to predict the price of real estate in São Paulo based on specific characteristics.\n",
        "\n",
        "\n",
        "\n",
        "\n",
        "\n",
        "\n"
      ],
      "metadata": {
        "id": "YzytYQAYUqNx"
      }
    },
    {
      "cell_type": "code",
      "source": [
        "# ================================================\n",
        "# LINEAR REGRESSION FOR REAL ESTATE PRICE PREDICTION\n",
        "# ================================================\n",
        "\n",
        "# Import required libraries\n",
        "import numpy as np\n",
        "import pandas as pd\n",
        "from sklearn.model_selection import train_test_split\n",
        "from sklearn.linear_model import LinearRegression\n",
        "from sklearn.metrics import mean_absolute_error, mean_squared_error, r2_score\n",
        "import matplotlib.pyplot as plt\n",
        "\n",
        "# Set random seed for reproducibility\n",
        "np.random.seed(42)\n",
        "\n",
        "# ======================================\n",
        "# 1. SYNTHETIC DATA GENERATION\n",
        "# ======================================\n",
        "n_samples = 500  # Number of properties in dataset\n",
        "\n",
        "# Generate explanatory variables\n",
        "area = np.random.uniform(50, 200, n_samples)  # Living area (50-200 m²)\n",
        "bedrooms = np.random.randint(1, 5, n_samples)  # Number of bedrooms (1-4)\n",
        "location = np.random.randint(1, 4, n_samples)  # 1=Suburbs, 2=Downtown, 3=South Zone\n",
        "\n",
        "# Price calculation based on features + noise\n",
        "base_price = (area * 5000) + (bedrooms * 20000) + (location * 100000)\n",
        "price = base_price + np.random.normal(0, 50000, n_samples)  # Add Gaussian noise\n",
        "\n",
        "# Create DataFrame\n",
        "real_estate_data = pd.DataFrame({\n",
        "    'area': area,\n",
        "    'bedrooms': bedrooms,\n",
        "    'location': location,\n",
        "    'price': price\n",
        "})\n",
        "\n",
        "# ======================================\n",
        "# 2. DATA PREPROCESSING\n",
        "# ======================================\n",
        "# Convert location to dummy variables (one-hot encoding)\n",
        "real_estate_data = pd.get_dummies(real_estate_data, columns=['location'])\n",
        "\n",
        "# Separate independent (X) and dependent (y) variables\n",
        "X = real_estate_data.drop('price', axis=1)\n",
        "y = real_estate_data['price']\n",
        "\n",
        "# Split into training (80%) and test (20%) sets\n",
        "X_train, X_test, y_train, y_test = train_test_split(\n",
        "    X, y,\n",
        "    test_size=0.2,\n",
        "    random_state=42\n",
        ")\n",
        "\n",
        "# ======================================\n",
        "# 3. MODEL TRAINING (LINEAR REGRESSION)\n",
        "# ======================================\n",
        "model = LinearRegression()\n",
        "model.fit(X_train, y_train)\n",
        "\n",
        "# ======================================\n",
        "# 4. MODEL EVALUATION\n",
        "# ======================================\n",
        "# Make predictions\n",
        "y_pred = model.predict(X_test)\n",
        "\n",
        "# Calculate metrics\n",
        "mae = mean_absolute_error(y_test, y_pred)\n",
        "mse = mean_squared_error(y_test, y_pred)\n",
        "rmse = np.sqrt(mse)\n",
        "r2 = r2_score(y_test, y_pred)\n",
        "\n",
        "# Get feature coefficients\n",
        "coefs = pd.DataFrame({\n",
        "    'Feature': X.columns,\n",
        "    'Coefficient': model.coef_\n",
        "})\n",
        "\n",
        "# ======================================\n",
        "# 5. RESULTS (COLAB-FORMATTED OUTPUT)\n",
        "# ======================================\n",
        "print(\"\\n\" + \"=\"*50)\n",
        "print(\"LINEAR REGRESSION RESULTS\")\n",
        "print(\"=\"*50)\n",
        "\n",
        "print(f\"\\n[MAE]  = R${mae:,.2f}\")\n",
        "print(f\"[RMSE] = R${rmse:,.2f}\")\n",
        "print(f\"[R²]   = {r2:.4f}\\n\")\n",
        "\n",
        "print(\"[COEFFICIENTS]:\")\n",
        "print(coefs.to_string(index=False))\n",
        "\n",
        "print(\"\\n[INTERPRETATION]:\")\n",
        "print(\"• Area: Each additional m² increases price by R${:,.2f}\".format(model.coef_[0]))\n",
        "print(\"• Bedrooms: Each bedroom adds R${:,.2f}\".format(model.coef_[1]))\n",
        "print(\"• Location (vs Suburbs):\")\n",
        "print(\"  - Downtown: +R${:,.2f}\".format(model.coef_[2]))\n",
        "print(\"  - South Zone: +R${:,.2f}\".format(model.coef_[3]))\n",
        "\n",
        "# Scatter plot (Actual vs Predicted Prices)\n",
        "plt.figure(figsize=(10, 6))\n",
        "plt.scatter(y_test, y_pred, alpha=0.5)\n",
        "plt.plot([y.min(), y.max()], [y.min(), y.max()], 'r--')\n",
        "plt.xlabel('Actual Price')\n",
        "plt.ylabel('Predicted Price')\n",
        "plt.title('Actual vs Predicted Prices')\n",
        "plt.show()"
      ],
      "metadata": {
        "colab": {
          "base_uri": "https://localhost:8080/",
          "height": 963
        },
        "id": "XN4KXYpFVnf8",
        "outputId": "a900663b-4a49-4ff8-8e6b-5c920b4e3b73"
      },
      "execution_count": 5,
      "outputs": [
        {
          "output_type": "stream",
          "name": "stdout",
          "text": [
            "\n",
            "==================================================\n",
            "LINEAR REGRESSION RESULTS\n",
            "==================================================\n",
            "\n",
            "[MAE]  = R$37,114.11\n",
            "[RMSE] = R$46,808.42\n",
            "[R²]   = 0.9581\n",
            "\n",
            "[COEFFICIENTS]:\n",
            "   Feature    Coefficient\n",
            "      area    5039.914039\n",
            "  bedrooms   18934.315741\n",
            "location_1 -107931.884772\n",
            "location_2    4814.501526\n",
            "location_3  103117.383246\n",
            "\n",
            "[INTERPRETATION]:\n",
            "• Area: Each additional m² increases price by R$5,039.91\n",
            "• Bedrooms: Each bedroom adds R$18,934.32\n",
            "• Location (vs Suburbs):\n",
            "  - Downtown: +R$-107,931.88\n",
            "  - South Zone: +R$4,814.50\n"
          ]
        },
        {
          "output_type": "display_data",
          "data": {
            "text/plain": [
              "<Figure size 1000x600 with 1 Axes>"
            ],
            "image/png": "[encoded data removed]"
          },
          "metadata": {}
        }
      ]
    },
    {
      "cell_type": "code",
      "source": [
        "# Report\n",
        "print(\"\\n\" + \"=\"*50)\n",
        "print(\"REPORT - LINEAR REGRESSION (EN)\")\n",
        "print(\"=\"*50)\n",
        "print(\"\"\"\n",
        "The model showed high accuracy (R²=0.9581) with average errors of\n",
        "R$37,114 (MAE) and R$46,808 (RMSE). Each additional m² increased\n",
        "prices by R$5,040, while extra bedrooms added R$18,934. Location\n",
        "revealed unexpected patterns: Downtown properties had lower valuation\n",
        "than Suburbs, while South Zone showed a slight increase of R$4,814.\n",
        "\n",
        "Libraries used:\n",
        "- pandas: data processing\n",
        "- sklearn: model building\n",
        "- matplotlib: graphical visualization\n",
        "\"\"\")"
      ],
      "metadata": {
        "colab": {
          "base_uri": "https://localhost:8080/"
        },
        "id": "W0Mn1NXpSOAI",
        "outputId": "4d16299d-503c-477b-fd46-aae4d0b8f35d"
      },
      "execution_count": 6,
      "outputs": [
        {
          "output_type": "stream",
          "name": "stdout",
          "text": [
            "\n",
            "==================================================\n",
            "REPORT - LINEAR REGRESSION (EN)\n",
            "==================================================\n",
            "\n",
            "The model showed high accuracy (R²=0.9581) with average errors of \n",
            "R$37,114 (MAE) and R$46,808 (RMSE). Each additional m² increased \n",
            "prices by R$5,040, while extra bedrooms added R$18,934. Location \n",
            "revealed unexpected patterns: Downtown properties had lower valuation \n",
            "than Suburbs, while South Zone showed a slight increase of R$4,814.\n",
            "\n",
            "Libraries used:\n",
            "- pandas: data processing\n",
            "- sklearn: model building\n",
            "- matplotlib: graphical visualization\n",
            "\n"
          ]
        }
      ]
    },
    {
      "cell_type": "markdown",
      "source": [],
      "metadata": {
        "id": "S02F0iINVoGU"
      }
    },
    {
      "cell_type": "code",
      "source": [
        "print(\"\\n\" + \"=\"*50)\n",
        "print(\"CONCLUSION\")\n",
        "print(\"=\"*50)\n",
        "print(\"\"\"\n",
        "The comparative analysis of both machine learning models reveals key insights about\n",
        "predictive modeling. The logistic regression (Example 1) achieved moderate performance\n",
        "(92.5% accuracy, 0.80 F1-Score) in classification tasks, while the linear regression\n",
        "(Example 2) showed substantial prediction errors (MAE R$37k, RMSE R$46k) despite good\n",
        "R² (0.9581). These results demonstrate three critical lessons:\n",
        "1. Model performance is highly dependent on data quality - synthetic data may lead to\n",
        "   misleading metrics\n",
        "2. Algorithm selection should match problem complexity - simple models may require\n",
        "   additional feature engineering\n",
        "3. Real-world applications demand rigorous validation - theoretical metrics don't always\n",
        "   reflect practical utility\n",
        "\n",
        "The experiments underscore the importance of proper data preprocessing, model tuning,\n",
        "and comprehensive evaluation beyond basic accuracy metrics in machine learning projects.\n",
        "\"\"\")"
      ],
      "metadata": {
        "colab": {
          "base_uri": "https://localhost:8080/"
        },
        "id": "RVT7CcLRTwGC",
        "outputId": "64c372dc-7d77-4b52-f5f1-d61948377067"
      },
      "execution_count": 7,
      "outputs": [
        {
          "output_type": "stream",
          "name": "stdout",
          "text": [
            "\n",
            "==================================================\n",
            "CONCLUSION\n",
            "==================================================\n",
            "\n",
            "The comparative analysis of both machine learning models reveals key insights about \n",
            "predictive modeling. The logistic regression (Example 1) achieved moderate performance \n",
            "(92.5% accuracy, 0.80 F1-Score) in classification tasks, while the linear regression \n",
            "(Example 2) showed substantial prediction errors (MAE R$37k, RMSE R$46k) despite good \n",
            "R² (0.9581). These results demonstrate three critical lessons:\n",
            "1. Model performance is highly dependent on data quality - synthetic data may lead to \n",
            "   misleading metrics\n",
            "2. Algorithm selection should match problem complexity - simple models may require \n",
            "   additional feature engineering\n",
            "3. Real-world applications demand rigorous validation - theoretical metrics don't always \n",
            "   reflect practical utility\n",
            "\n",
            "The experiments underscore the importance of proper data preprocessing, model tuning, \n",
            "and comprehensive evaluation beyond basic accuracy metrics in machine learning projects.\n",
            "\n"
          ]
        }
      ]
    }
  ]
}